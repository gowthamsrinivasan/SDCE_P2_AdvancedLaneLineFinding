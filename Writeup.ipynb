{
 "cells": [
  {
   "cell_type": "markdown",
   "metadata": {},
   "source": [
    "# Advanced Lane Finding\n",
    "\n",
    "This project explains the steps in finding the lane lines:\n",
    "\n",
    "* Compute the camera calibration matrix and distortion coefficients given a set of chessboard images.\n",
    "* Apply a distortion correction to raw images.\n",
    "* Use color transforms, gradients, etc., to create a thresholded binary image.\n",
    "* Apply a perspective transform to rectify binary image (\"birds-eye view\").\n",
    "* Detect lane pixels and fit to find the lane boundary.\n",
    "* Determine the curvature of the lane and vehicle position with respect to center.\n",
    "* Warp the detected lane boundaries back onto the original image.\n",
    "* Output visual display of the lane boundaries and numerical estimation of lane curvature and vehicle position.\n",
    "\n",
    "The goal of this project is to successfully identify the lane lines in both the test images and the video, and the output image stream should look similar to the following image:\n",
    "\n",
    "![](output_images/test2.jpg)\n"
   ]
  },
  {
   "cell_type": "markdown",
   "metadata": {},
   "source": [
    "## Camera Calibration and undistortion\n",
    "*Briefly state how you computed the camera matrix and distortion coefficients. Provide an example of a distortion corrected calibration image.* \n",
    "\n",
    "The camera calibration was done by using the chessboard images provided in the project. As taught in the module, I used the `cv2.findChessboardCorners` function to find the chessboard corners and thereby `cv2.calibrateCamera` to calibrate the camera. Following are the steps used to calibrate the camera\n",
    "\n",
    "1. Define the size of the corners \n",
    "2. Prepare the object points\n",
    "3. Read in the image and covert it to grayscale\n",
    "4. Pass the grayscaled image to `cv2.findChessboardCorners` function to find the corners in the image\n",
    "5. Pass the original image to `cv2.drawChessboardCorners` function to draw and display the corners\n",
    "6. Once the image points and object points are identified, use the `cv2.calibrateCamera` function to find the camera matrix and distortion coefficients\n",
    "7. Use the `cv2.undistort` function to undistort the image.\n",
    "\n",
    "The resulting undistorted image looks similar to the following:\n",
    "\n",
    "![Alt](test_images/test3_undist.jpg)\n",
    "<center> <i> test_images/test3_undist.jpg </i> </center>"
   ]
  },
  {
   "cell_type": "markdown",
   "metadata": {},
   "source": [
    "## Pipeline (test images)"
   ]
  },
  {
   "cell_type": "code",
   "execution_count": null,
   "metadata": {},
   "outputs": [],
   "source": []
  }
 ],
 "metadata": {
  "kernelspec": {
   "display_name": "Python 3",
   "language": "python",
   "name": "python3"
  },
  "language_info": {
   "codemirror_mode": {
    "name": "ipython",
    "version": 3
   },
   "file_extension": ".py",
   "mimetype": "text/x-python",
   "name": "python",
   "nbconvert_exporter": "python",
   "pygments_lexer": "ipython3",
   "version": "3.6.3"
  }
 },
 "nbformat": 4,
 "nbformat_minor": 2
}
